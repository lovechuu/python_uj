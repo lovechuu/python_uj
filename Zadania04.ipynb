{
 "cells": [
  {
   "cell_type": "markdown",
   "id": "07bdd790",
   "metadata": {},
   "source": [
    "<h3>ZADANIE 4.2</h3>\n",
    "\n",
    "<p>Rozwiązania zadań 3.5 i 3.6 z poprzedniego zestawu\n",
    "zapisać w postaci funkcji, które zwracają pełny string\n",
    "przez <em>return</em>.\n",
    "Funkcje nie powinny pytać użytkownika o dane, tylko korzystać z argumentów.\n"
   ]
  },
  {
   "cell_type": "code",
   "execution_count": null,
   "id": "03ed1de6",
   "metadata": {},
   "outputs": [
    {
     "name": "stdout",
     "output_type": "stream",
     "text": [
      "|....|....|....|....|....|....|....|....|....|....|....|....|....|....|....|....|....|....|....|....|....|....|\n",
      "0    1    2    3    4    5    6    7    8    9   10   11   12   13   14   15   16   17   18   19   20   21   22\n"
     ]
    }
   ],
   "source": [
    "def make_ruler(n): \n",
    "    res = []\n",
    "    for num in range(n):\n",
    "        res.append('|....')\n",
    "    res.append('|\\n0')\n",
    "    for num in range(1, n + 1):\n",
    "        res.append(str(num).rjust(5, ' '))\n",
    "    return ''.join(res)\n",
    "\n",
    "\n",
    "print(make_ruler(22))"
   ]
  },
  {
   "cell_type": "code",
   "execution_count": null,
   "id": "5298980c",
   "metadata": {},
   "outputs": [
    {
     "name": "stdout",
     "output_type": "stream",
     "text": [
      "\n",
      "+---+---+---+---+---+---+---+---+\n",
      "|   |   |   |   |   |   |   |   |\n",
      "+---+---+---+---+---+---+---+---+\n",
      "|   |   |   |   |   |   |   |   |\n",
      "+---+---+---+---+---+---+---+---+\n",
      "|   |   |   |   |   |   |   |   |\n",
      "+---+---+---+---+---+---+---+---+\n"
     ]
    }
   ],
   "source": [
    "def make_grid(rows, cols): \n",
    "    res = []\n",
    "    for i in range(rows*2+1): \n",
    "        if i % 2 == 0:\n",
    "            res.append('\\n+')\n",
    "            for i in range(cols):\n",
    "                res.append('---+')\n",
    "        else:\n",
    "            res.append('\\n|')\n",
    "            for i in range(cols):\n",
    "                res.append('   |')\n",
    "    return ''.join(res)\n",
    "\n",
    "\n",
    "print(make_grid(3,8))"
   ]
  },
  {
   "cell_type": "markdown",
   "id": "4aca5612",
   "metadata": {},
   "source": [
    "<h3>ZADANIE 4.3</h3>\n",
    "\n",
    "<p>Napisać iteracyjną wersję funkcji <em>factorial(n)</em> obliczającej silnię.\n"
   ]
  },
  {
   "cell_type": "code",
   "execution_count": null,
   "id": "df86c54f",
   "metadata": {},
   "outputs": [
    {
     "name": "stdout",
     "output_type": "stream",
     "text": [
      "0! = 1\n",
      "4! = 24\n",
      "10! = 3628800\n"
     ]
    }
   ],
   "source": [
    "def factorial(n):\n",
    "    res = 1\n",
    "    for num in range(1, n+1):\n",
    "        res *= num\n",
    "    return res\n",
    "\n",
    "\n",
    "print('0! =', factorial(0))\n",
    "print('4! =', factorial(4))\n",
    "print('10! =', factorial(10))"
   ]
  },
  {
   "cell_type": "markdown",
   "id": "5a6d72cd",
   "metadata": {},
   "source": [
    "<h3>ZADANIE 4.4</h3>\n",
    "\n",
    "<p>Napisać iteracyjną wersję funkcji <em>fibonacci(n)</em>\n",
    "obliczającej n-ty wyraz ciągu Fibonacciego."
   ]
  },
  {
   "cell_type": "code",
   "execution_count": null,
   "id": "083f673a",
   "metadata": {},
   "outputs": [
    {
     "name": "stdout",
     "output_type": "stream",
     "text": [
      "F0 = 0\n",
      "F4 = 3\n",
      "F20 = 6765\n"
     ]
    }
   ],
   "source": [
    "def fibonacci(n):\n",
    "    x, y = 0, 1\n",
    "    for num in range(n):\n",
    "        x, y = y, x+y\n",
    "    return x\n",
    "    \n",
    "print('F0 =', fibonacci(0))\n",
    "print('F4 =', fibonacci(4))\n",
    "print('F20 =', fibonacci(20))"
   ]
  },
  {
   "cell_type": "markdown",
   "id": "e7cc01ef",
   "metadata": {},
   "source": [
    "<h3>ZADANIE 4.5</h3>\n",
    "\n",
    "<p>Napisać funkcję <em>odwracanie(L, left, right)</em> \n",
    "odwracającą kolejność elementów na liście od numeru left do right włącznie. \n",
    "Lista jest modyfikowana w miejscu (in place).\n",
    "Rozważyć wersję iteracyjną i rekurencyjną.\n"
   ]
  },
  {
   "cell_type": "code",
   "execution_count": null,
   "id": "db313035",
   "metadata": {},
   "outputs": [
    {
     "name": "stdout",
     "output_type": "stream",
     "text": [
      "[0, 1, 2, 3, 8, 7, 6, 5, 4, 9, 10]\n"
     ]
    }
   ],
   "source": [
    "def odwracanie_iterative(L, left, right):\n",
    "    while right != left:\n",
    "        L[right], L[left] = L[left], L[right]\n",
    "        left += 1\n",
    "        right -= 1\n",
    "    return L\n",
    "\n",
    "\n",
    "L = [0, 1, 2, 3, 4, 5, 6, 7, 8, 9, 10]\n",
    "print(odwracanie_iterative(L, 4, 8))"
   ]
  },
  {
   "cell_type": "code",
   "execution_count": null,
   "id": "e337bec7",
   "metadata": {},
   "outputs": [
    {
     "name": "stdout",
     "output_type": "stream",
     "text": [
      "[0, 1, 2, 3, 8, 7, 6, 5, 4, 9, 10]\n"
     ]
    }
   ],
   "source": [
    "def odwracanie_recursive(L, left, right):\n",
    "    if right != left:\n",
    "        L[right], L[left] = L[left], L[right]\n",
    "        L = odwracanie_recursive(L, left+1, right-1)\n",
    "    return L\n",
    "\n",
    "\n",
    "L = [0, 1, 2, 3, 4, 5, 6, 7, 8, 9, 10]\n",
    "print(odwracanie_recursive(L, 4, 8))"
   ]
  },
  {
   "cell_type": "markdown",
   "id": "a663001b",
   "metadata": {},
   "source": [
    "<h3>ZADANIE 4.6</h3>\n",
    "\n",
    "<p>Napisać funkcję  <em>sum_seq(sequence)</em>\n",
    "obliczającą sumę liczb zawartych w sekwencji, \n",
    "która może zawierać zagnieżdżone podsekwencje. \n",
    "Wskazówka: rozważyć wersję rekurencyjną, a sprawdzanie, czy element\n",
    "jest sekwencją, wykonać przez <em>isinstance(item, (list, tuple))</em>.\n"
   ]
  },
  {
   "cell_type": "code",
   "execution_count": 3,
   "id": "134b1597",
   "metadata": {},
   "outputs": [
    {
     "name": "stdout",
     "output_type": "stream",
     "text": [
      "45\n"
     ]
    }
   ],
   "source": [
    "def sum_seq(sequence):\n",
    "    res = 0\n",
    "    for element in sequence:\n",
    "        if isinstance(element, (list, tuple)):\n",
    "            res += sum_seq(element)\n",
    "        else:\n",
    "            res += element\n",
    "    return res\n",
    "            \n",
    "seq = [1,(2,3),[],[4,(5,6,7)],8,[9]]\n",
    "print(sum_seq(seq))"
   ]
  },
  {
   "cell_type": "markdown",
   "id": "e03127d0",
   "metadata": {},
   "source": [
    "Wersja z wykorzystaniem funkcji flatten z zadania 4.7:\n"
   ]
  },
  {
   "cell_type": "code",
   "execution_count": 4,
   "id": "8252f4f8",
   "metadata": {},
   "outputs": [
    {
     "name": "stdout",
     "output_type": "stream",
     "text": [
      "45\n"
     ]
    }
   ],
   "source": [
    "def flatten(sequence):\n",
    "    for element in sequence:\n",
    "        if isinstance(element, (list, tuple)):\n",
    "            yield from flatten(element)\n",
    "        else:\n",
    "            yield element\n",
    "\n",
    "        \n",
    "seq = [1,(2,3),[],[4,(5,6,7)],8,[9]]\n",
    "print(sum(flatten(seq)))"
   ]
  },
  {
   "cell_type": "markdown",
   "id": "061cd21a",
   "metadata": {
    "vscode": {
     "languageId": "bat"
    }
   },
   "source": [
    "<h3>ZADANIE 4.7</h3>\n",
    "\n",
    "<p>Mamy daną sekwencję, w której niektóre z elementów mogą\n",
    "okazać się podsekwencjami, a takie zagnieżdżenia mogą się\n",
    "nakładać do nieograniczonej głębokości.\n",
    "Napisać funkcję <em>flatten(sequence)</em>, która zwróci\n",
    "spłaszczoną listę wszystkich elementów sekwencji.\n",
    "Wskazówka: rozważyć wersję rekurencyjną, a sprawdzanie czy element\n",
    "jest sekwencją, wykonać przez <em>isinstance(item, (list, tuple))</em>.\n",
    "\n",
    "<pre>\n",
    "seq = [1,(2,3),[],[4,(5,6,7)],8,[9]]\n",
    "print(flatten(seq))   # [1,2,3,4,5,6,7,8,9]\n",
    "</pre>"
   ]
  },
  {
   "cell_type": "code",
   "execution_count": 72,
   "id": "a47b9c2c",
   "metadata": {},
   "outputs": [
    {
     "name": "stdout",
     "output_type": "stream",
     "text": [
      "[1, 2, 3, 4, 5, 6, 7, 8, 9]\n"
     ]
    }
   ],
   "source": [
    "def flatten(sequence):\n",
    "    for element in sequence:\n",
    "        if isinstance(element, (list, tuple)):\n",
    "            yield from flatten(element)\n",
    "        else:\n",
    "            yield element\n",
    "\n",
    "        \n",
    "seq = [1,(2,3),[],[4,(5,6,7)],8,[9]]\n",
    "print(list(flatten(seq)))"
   ]
  }
 ],
 "metadata": {
  "kernelspec": {
   "display_name": "Python 3 (ipykernel)",
   "language": "python",
   "name": "python3"
  },
  "language_info": {
   "codemirror_mode": {
    "name": "ipython",
    "version": 3
   },
   "file_extension": ".py",
   "mimetype": "text/x-python",
   "name": "python",
   "nbconvert_exporter": "python",
   "pygments_lexer": "ipython3",
   "version": "3.9.8"
  }
 },
 "nbformat": 4,
 "nbformat_minor": 5
}
