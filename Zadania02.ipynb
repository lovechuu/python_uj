{
 "cells": [
  {
   "cell_type": "markdown",
   "id": "a0904f93",
   "metadata": {},
   "source": [
    "<h3>ZADANIE 2.10</h3>\n",
    "\n",
    "<p>Mamy dany napis wielowierszowy <em>line</em>.\n",
    "Podac sposob obliczenia liczby wyrazow w napisie.\n",
    "Przez wyraz rozumiemy ciag \"czarnych\" znakow, oddzielony\n",
    "od innych wyrazow bialymi znakami (spacja, tabulacja, newline)."
   ]
  },
  {
   "cell_type": "code",
   "execution_count": 89,
   "id": "4f949009",
   "metadata": {},
   "outputs": [
    {
     "name": "stdout",
     "output_type": "stream",
     "text": [
      "19\n"
     ]
    }
   ],
   "source": [
    "line = \"Lorem ipsum dolor sit amet, \\nconsectetur adipiscing elit, \\nsed do eiusmod tempor incididunt \\nut labore et dolore magna aliqua.\"\n",
    "print(len(line.split())) "
   ]
  },
  {
   "cell_type": "markdown",
   "id": "ff1974f3",
   "metadata": {},
   "source": [
    "<h3>ZADANIE 2.11</h3>\n",
    "\n",
    "<p>Podac sposob wyswietlania napisu <em>word</em> tak,\n",
    "aby jego znaki byly rozdzielone znakiem podkreslenia."
   ]
  },
  {
   "cell_type": "code",
   "execution_count": 90,
   "id": "3e790907",
   "metadata": {},
   "outputs": [
    {
     "name": "stdout",
     "output_type": "stream",
     "text": [
      "p_y_t_h_o_n\n"
     ]
    }
   ],
   "source": [
    "word = \"python\"\n",
    "print(\"_\".join(word))"
   ]
  },
  {
   "cell_type": "markdown",
   "id": "bfad95ad",
   "metadata": {},
   "source": [
    "<h3>ZADANIE 2.12</h3>\n",
    "\n",
    "<p>Zbudowac napis stworzony z pierwszych\n",
    "znakow wyrazow z wiersza <em>line</em>.\n",
    "Zbudowac napis stworzony z ostatnich\n",
    "znakow wyrazow z wiersza <em>line</em>."
   ]
  },
  {
   "cell_type": "code",
   "execution_count": 102,
   "id": "57090e9a",
   "metadata": {},
   "outputs": [
    {
     "name": "stdout",
     "output_type": "stream",
     "text": [
      "Lidsacaesdetiuledma\n",
      "mmrt,rg,dodrttetea.\n"
     ]
    }
   ],
   "source": [
    "line = \"Lorem ipsum dolor sit amet, consectetur adipiscing elit, sed do eiusmod tempor incididunt ut labore et dolore magna aliqua.\"\n",
    "# line = line.replace(\",\", \"\").replace(\".\", \"\")\n",
    "words = line.split()\n",
    "first = \"\"\n",
    "last = \"\"\n",
    "for w in words:\n",
    "    first += w[0]\n",
    "    last += w[-1]\n",
    "print(first)\n",
    "print(last)"
   ]
  },
  {
   "cell_type": "markdown",
   "id": "e907e1ef",
   "metadata": {},
   "source": [
    "<h3>ZADANIE 2.13</h3>\n",
    "\n",
    "<p>Znalezc laczna dlugosc wyrazow w napisie <em>line</em>.\n",
    "Wskazowka: mozna skorzystac z funkcji <em>sum()</em>."
   ]
  },
  {
   "cell_type": "code",
   "execution_count": 103,
   "id": "4e20d15e",
   "metadata": {},
   "outputs": [
    {
     "name": "stdout",
     "output_type": "stream",
     "text": [
      "105\n"
     ]
    }
   ],
   "source": [
    "line = \"Lorem ipsum dolor sit amet, consectetur adipiscing elit, sed do eiusmod tempor incididunt ut labore et dolore magna aliqua.\"\n",
    "# line = line.replace(\",\", \"\").replace(\".\", \"\")\n",
    "words = line.split()\n",
    "length = sum(len(w) for w in words)\n",
    "print(length)"
   ]
  },
  {
   "cell_type": "markdown",
   "id": "1609f816",
   "metadata": {},
   "source": [
    "<h3>ZADANIE 2.14</h3>\n",
    "\n",
    "<p>Znalezc: (a) najdluzszy wyraz, (b) dlugosc najdluzszego\n",
    "wyrazu w napisie <em>line</em>."
   ]
  },
  {
   "cell_type": "code",
   "execution_count": 104,
   "id": "a8e90c5c",
   "metadata": {},
   "outputs": [
    {
     "name": "stdout",
     "output_type": "stream",
     "text": [
      "consectetur\n",
      "11\n"
     ]
    }
   ],
   "source": [
    "line = \"Lorem ipsum dolor sit amet, consectetur adipiscing elit, sed do eiusmod tempor incididunt ut labore et dolore magna aliqua.\"\n",
    "# line = line.replace(\",\", \"\").replace(\".\", \"\")\n",
    "words = line.split()\n",
    "longest = max(words, key=len)\n",
    "print(longest)\n",
    "print(len(longest))"
   ]
  },
  {
   "cell_type": "markdown",
   "id": "aa8368e6",
   "metadata": {},
   "source": [
    "<h3>ZADANIE 2.15</h3>\n",
    "\n",
    "<p>Na liscie L znajduja sie liczby calkowite dodatnie.\n",
    "Stworzyc napis bedacy ciagiem cyfr kolejnych liczb\n",
    "z listy L."
   ]
  },
  {
   "cell_type": "code",
   "execution_count": 3,
   "id": "79867f80",
   "metadata": {},
   "outputs": [
    {
     "name": "stdout",
     "output_type": "stream",
     "text": [
      "12345678910\n"
     ]
    }
   ],
   "source": [
    "L = [1, 2, 3, 4, 5, 6, 7, 8 ,9, 10]\n",
    "string = ''.join(str(num) for num in L)\n",
    "print(string)"
   ]
  },
  {
   "cell_type": "markdown",
   "id": "e90289e6",
   "metadata": {},
   "source": [
    "<h3>ZADANIE 2.16</h3>\n",
    "\n",
    "<p>W tekscie znajdujacym sie w zmiennej <em>line</em>\n",
    "zamienic ciag znakow \"GvR\" na \"Guido van Rossum\"."
   ]
  },
  {
   "cell_type": "code",
   "execution_count": 13,
   "id": "ba97466d",
   "metadata": {
    "scrolled": true
   },
   "outputs": [
    {
     "name": "stdout",
     "output_type": "stream",
     "text": [
      "In October 2019, Guido van Rossum retired before coming out of retirement the following year to join Microsoft. He currently holds the title Distinguished Engineer at Microsoft. On 12 November 2020 Guido van Rossum announced that he was coming out of retirement to join the Developer Division at Microsoft.\n"
     ]
    }
   ],
   "source": [
    "line = \"In October 2019, GvR retired before coming out of retirement the following year to join Microsoft. He currently holds the title Distinguished Engineer at Microsoft. On 12 November 2020 GvR announced that he was coming out of retirement to join the Developer Division at Microsoft.\"\n",
    "line = line.replace(\"GvR\", \"Guido van Rossum\")\n",
    "print(line)"
   ]
  },
  {
   "cell_type": "markdown",
   "id": "0f6c6404",
   "metadata": {},
   "source": [
    "<h3>ZADANIE 2.17</h3>\n",
    "\n",
    "<p>Posortowac wyrazy z napisu <em>line</em>\n",
    "raz alfabetycznie, a raz pod wzgledem dlugosci.\n",
    "Wskazowka: funkcja wbudowana <em>sorted()</em>."
   ]
  },
  {
   "cell_type": "code",
   "execution_count": 98,
   "id": "e869f216",
   "metadata": {},
   "outputs": [
    {
     "name": "stdout",
     "output_type": "stream",
     "text": [
      "['adipiscing', 'aliqua.', 'amet,', 'consectetur', 'do', 'dolor', 'dolore', 'eiusmod', 'elit,', 'et', 'incididunt', 'ipsum', 'labore', 'Lorem', 'magna', 'sed', 'sit', 'tempor', 'ut']\n",
      "['do', 'ut', 'et', 'sit', 'sed', 'Lorem', 'ipsum', 'dolor', 'amet,', 'elit,', 'magna', 'tempor', 'labore', 'dolore', 'eiusmod', 'aliqua.', 'adipiscing', 'incididunt', 'consectetur']\n"
     ]
    }
   ],
   "source": [
    "line = \"Lorem ipsum dolor sit amet, consectetur adipiscing elit, sed do eiusmod tempor incididunt ut labore et dolore magna aliqua.\"\n",
    "print(sorted(line.split(), key=str.lower))\n",
    "print(sorted(line.split(), key=len))"
   ]
  },
  {
   "cell_type": "markdown",
   "id": "189d5d9e",
   "metadata": {},
   "source": [
    "<h3>ZADANIE 2.18</h3>\n",
    "\n",
    "<p>Znalezc liczbe cyfr zero w duzej liczbie calkowitej.\n",
    "Wskazowka: zamienic liczbe na napis."
   ]
  },
  {
   "cell_type": "code",
   "execution_count": 100,
   "id": "09401afa",
   "metadata": {},
   "outputs": [
    {
     "name": "stdout",
     "output_type": "stream",
     "text": [
      "7\n"
     ]
    }
   ],
   "source": [
    "num = 430403240003400\n",
    "zero_count = str(num).count(\"0\")\n",
    "print(zero_count)"
   ]
  },
  {
   "cell_type": "markdown",
   "id": "03e84525",
   "metadata": {},
   "source": [
    "<h3>ZADANIE 2.19</h3>\n",
    "\n",
    "<p>Na liscie L mamy liczby jedno-, dwu- i trzycyfrowe\n",
    "dodatnie.  Chcemy zbudowac napis z trzycyfrowych blokow,\n",
    "gdzie liczby jedno- i dwucyfrowe beda mialy blok\n",
    "dopelniony zerami, np.  007, 024. \n",
    "Wskazowka: <em>str.zfill()</em>."
   ]
  },
  {
   "cell_type": "code",
   "execution_count": 80,
   "id": "0cfd8ed1",
   "metadata": {},
   "outputs": [
    {
     "name": "stdout",
     "output_type": "stream",
     "text": [
      "024 001 154 089 009 527 \n"
     ]
    }
   ],
   "source": [
    "L = [24, 1, 154, 89, 9, 527]\n",
    "string = \"\"\n",
    "for num in L:\n",
    "    string += str(num).zfill(3) + \" \"\n",
    "print(string)"
   ]
  }
 ],
 "metadata": {
  "kernelspec": {
   "display_name": "Python 3 (ipykernel)",
   "language": "python",
   "name": "python3"
  },
  "language_info": {
   "codemirror_mode": {
    "name": "ipython",
    "version": 3
   },
   "file_extension": ".py",
   "mimetype": "text/x-python",
   "name": "python",
   "nbconvert_exporter": "python",
   "pygments_lexer": "ipython3",
   "version": "3.9.8"
  }
 },
 "nbformat": 4,
 "nbformat_minor": 5
}
