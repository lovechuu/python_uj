{
 "cells": [
  {
   "cell_type": "markdown",
   "id": "659d5659",
   "metadata": {},
   "[markdown]": {
    "files.encoding": "utf8"
   },
   "source": [
    "<h3>ZADANIE 3.1</h3>\n",
    "\n",
    "<p>Czy podany kod jest poprawny skladniowo w Pythonie?\n",
    "Jesli nie, to dlaczego?\n",
    "<hr>\n",
    "\n",
    "Kod poprawny, mozna jednak usunac sredniki i nawias przy instrukcji warunkowej:\n",
    "<pre>\n",
    "x = 2\n",
    "y = 3\n",
    "if x > y:\n",
    "    result = x\n",
    "else:\n",
    "    result = y\n",
    "</pre><hr>\n",
    "\n",
    "Zla skladnia, if wymaga tu nowej linii:\n",
    "<pre>\n",
    "for i in \"axby\": \n",
    "    if ord(i) < 100: print(i)\n",
    "</pre><hr>\n",
    "\n",
    "Kod poprawny\n",
    "<pre>\n",
    "for i in \"axby\": print (ord(i) if ord(i) < 100 else i)\n",
    "</pre><hr>\n",
    "\n"
   ]
  },
  {
   "cell_type": "markdown",
   "id": "bbcfd1f8",
   "metadata": {},
   "source": [
    "<h3>ZADANIE 3.2</h3>\n",
    "\n",
    "<p>Co jest zlego w kodzie:\n",
    "<hr>\n",
    "\n",
    "zeby uzyskac posortowana tablice powinno byc samo L.sort()\n",
    "<pre>\n",
    "L = [3, 5, 4] ; L = L.sort()\n",
    "</pre><hr>\n",
    "\n",
    "2 zmiennym probujemy przypisac 3 wartosci\n",
    "<pre>\n",
    "x, y = 1, 2, 3\n",
    "</pre><hr>\n",
    "\n",
    "X jest krotka, a wartosci elementow krotki nie mozemy zmienic, nalezaloby najpierw zamienic X na liste\n",
    "<pre>\n",
    "X = 1, 2, 3 ; X[1] = 4\n",
    "</pre><hr>\n",
    "\n",
    "wyjscie poza zakres tablicy, X ma ideksy od 0 do 2\n",
    "<pre>\n",
    "X = [1, 2, 3] ; X[3] = 4\n",
    "</pre><hr>\n",
    "\n",
    "X jest stringiem, nie zadziala wiec metoda append\n",
    "<pre>\n",
    "X = \"abc\" ; X.append(\"d\")\n",
    "</pre><hr>\n",
    "\n",
    "sama funkcja pow bez zadnych argumentow nie moze byc argumentem map\n",
    "<pre>\n",
    "L = list(map(pow, range(8)))\n",
    "</pre><hr>"
   ]
  },
  {
   "cell_type": "markdown",
   "id": "0c738f53",
   "metadata": {},
   "source": [
    "<h3>ZADANIE 3.3</h3>\n",
    "\n",
    "<p>Wypisac w petli liczby od 0 do 30 z wyjatkiem liczb\n",
    "podzielnych przez 3."
   ]
  },
  {
   "cell_type": "code",
   "execution_count": 28,
   "id": "7ed76565",
   "metadata": {},
   "outputs": [
    {
     "name": "stdout",
     "output_type": "stream",
     "text": [
      "1\n",
      "2\n",
      "4\n",
      "5\n",
      "7\n",
      "8\n",
      "10\n",
      "11\n",
      "13\n",
      "14\n",
      "16\n",
      "17\n",
      "19\n",
      "20\n",
      "22\n",
      "23\n",
      "25\n",
      "26\n",
      "28\n",
      "29\n"
     ]
    }
   ],
   "source": [
    "for num in range(31):\n",
    "    if num % 3 != 0:\n",
    "        print(num)"
   ]
  },
  {
   "cell_type": "markdown",
   "id": "0bc74274",
   "metadata": {},
   "source": [
    "<h3>ZADANIE 3.4</h3>\n",
    "\n",
    "<p>Napisac program pobierajacy w petli od uzytkownika\n",
    "liczbe rzeczywista x (typ float) i wypisujacy x oraz trzecia potege x.\n",
    "Zatrzymanie programu nastepuje po wpisaniu z klawiatury <em>stop</em>.\n",
    "Jezeli uzytkownik wpisze napis zamiast liczby, to program\n",
    "ma wypisac komunikat o bledzie i kontynuowac prace.\n",
    "\n"
   ]
  },
  {
   "cell_type": "code",
   "execution_count": 29,
   "id": "f13a8505",
   "metadata": {},
   "outputs": [
    {
     "name": "stdout",
     "output_type": "stream",
     "text": [
      "Podaj liczbe: 4\n",
      "x =  4.0\n",
      "x^3 =  64.0\n",
      "Podaj liczbe: 10\n",
      "x =  10.0\n",
      "x^3 =  1000.0\n",
      "Podaj liczbe: e\n",
      "Nie podano liczby!\n",
      "Podaj liczbe: stop\n"
     ]
    }
   ],
   "source": [
    "while True:\n",
    "    x = input('Podaj liczbe: ')\n",
    "    if x == 'stop':\n",
    "        break \n",
    "    try:\n",
    "        x = float(x)\n",
    "        print('x = ', x)\n",
    "        print('x^3 = ', x**3)\n",
    "    except ValueError:\n",
    "        print('Nie podano liczby!')"
   ]
  },
  {
   "cell_type": "markdown",
   "id": "87303c9e",
   "metadata": {},
   "source": [
    "<h3>ZADANIE 3.5</h3>\n",
    "\n",
    "<p>Napisac program rysujacy \"miarke\" o zadanej dlugosci.\n",
    "Nalezy prawidlowo obsluzyc liczby skladajace sie z kilku cyfr\n",
    "(ostatnia cyfra liczby ma znajdowac sie pod znakiem kreski pionowej).\n",
    "Nalezy zbudowac pelny string, a potem go wypisac.\n",
    "\n",
    "<pre>\n",
    "|....|....|....|....|....|....|....|....|....|....|....|....|\n",
    "0    1    2    3    4    5    6    7    8    9   10   11   12\n",
    "</pre>\n"
   ]
  },
  {
   "cell_type": "code",
   "execution_count": 30,
   "id": "478e6028",
   "metadata": {},
   "outputs": [
    {
     "name": "stdout",
     "output_type": "stream",
     "text": [
      "|....|....|....|....|....|....|....|....|....|....|....|....|....|....|....|....|....|....|....|....|\n",
      "0    1    2    3    4    5    6    7    8    9   10   11   12   13   14   15   16   17   18   19   20\n"
     ]
    }
   ],
   "source": [
    "size = 20\n",
    "\n",
    "res = ''\n",
    "for num in range(size):\n",
    "    res += '|....'\n",
    "res += '|\\n0'\n",
    "\n",
    "for num in range(1, size + 1):\n",
    "    if num < 10:\n",
    "        res +=  '    ' + str(num)\n",
    "    elif num < 100:\n",
    "        res +=  '   ' + str(num)\n",
    "    else:\n",
    "        res +=  '  ' + str(num)\n",
    "        \n",
    "print(res)"
   ]
  },
  {
   "cell_type": "markdown",
   "id": "bcc6e0e1",
   "metadata": {},
   "source": [
    "<h3>ZADANIE 3.6</h3>\n",
    "\n",
    "<p>Napisac program rysujacy prostokat zbudowany z malych kratek.\n",
    "Nalezy zbudowac pelny string, a potem go wypisac.\n",
    "Przykladowy prostokat skladajacy sie 2x4 pol ma postac:\n",
    "\n",
    "<pre>\n",
    "+---+---+---+---+\n",
    "|   |   |   |   |\n",
    "+---+---+---+---+\n",
    "|   |   |   |   | \n",
    "+---+---+---+---+\n",
    "</pre>\n",
    "\n"
   ]
  },
  {
   "cell_type": "code",
   "execution_count": 31,
   "id": "c2908a48",
   "metadata": {},
   "outputs": [
    {
     "name": "stdout",
     "output_type": "stream",
     "text": [
      "\n",
      "+---+---+---+---+---+---+---+---+\n",
      "|   |   |   |   |   |   |   |   |\n",
      "+---+---+---+---+---+---+---+---+\n",
      "|   |   |   |   |   |   |   |   |\n",
      "+---+---+---+---+---+---+---+---+\n",
      "|   |   |   |   |   |   |   |   |\n",
      "+---+---+---+---+---+---+---+---+\n"
     ]
    }
   ],
   "source": [
    "width = 8\n",
    "height = 3\n",
    "res = ''\n",
    "\n",
    "for i in range(height*2+1): \n",
    "    if i % 2 == 0:\n",
    "        res += '\\n+'\n",
    "        for i in range(width):\n",
    "            res += '---+'\n",
    "    else:\n",
    "        res += '\\n|'\n",
    "        for i in range(width):\n",
    "            res += '   |'\n",
    "    \n",
    "print(res)"
   ]
  },
  {
   "cell_type": "markdown",
   "id": "8bdd74c3",
   "metadata": {},
   "source": [
    "<h3>ZADANIE 3.8</h3>\n",
    "\n",
    "<p>Dla dwoch sekwencji liczb lub znakow znalezc:\n",
    "(a) liste elementow wystepujacych jednoczesnie w obu sekwencjach (bez powtorzen),\n",
    "(b) liste wszystkich elementow z obu sekwencji (bez powtorzen)."
   ]
  },
  {
   "cell_type": "code",
   "execution_count": 32,
   "id": "16c91c0f",
   "metadata": {},
   "outputs": [
    {
     "name": "stdout",
     "output_type": "stream",
     "text": [
      "['e', '3', '2', 'x', 'j', '9', '1']\n",
      "['c', 'a', 'o', 'j', '9', 'x', 'e', '1', 'f', 'w', 'p', '2', '3']\n"
     ]
    }
   ],
   "source": [
    "s1 = 'fewaa3c2aaxj921'\n",
    "s2 = 'ex1ej219x2op312321'\n",
    "\n",
    "resA = []\n",
    "for element in s1:\n",
    "    if (element in s2) and (element not in resA):\n",
    "        resA.append(element)    \n",
    "        \n",
    "resB = list(set(s1 + s2))\n",
    "\n",
    "print(resA)\n",
    "print(resB)"
   ]
  },
  {
   "cell_type": "markdown",
   "id": "e0f33655",
   "metadata": {},
   "source": [
    "<h3>ZADANIE 3.9</h3>\n",
    "\n",
    "<p>Mamy dana liste sekwencji (listy lub krotki)\n",
    "roznej dlugosci zawierajacych liczby. \n",
    "Znalezc liste zawierajaca sumy liczb z tych sekwencji.\n",
    "Przykladowa sekwencja [[],[4],(1,2),[3,4],(5,6,7)],\n",
    "spodziewany wynik [0,4,3,7,18].\n"
   ]
  },
  {
   "cell_type": "code",
   "execution_count": 33,
   "id": "c826a4e9",
   "metadata": {},
   "outputs": [
    {
     "name": "stdout",
     "output_type": "stream",
     "text": [
      "[0, 4, 3, 7, 18]\n"
     ]
    }
   ],
   "source": [
    "L = [[],[4],(1,2),[3,4],(5,6,7)]\n",
    "res = [sum(element) for element in L]\n",
    "print(res)"
   ]
  },
  {
   "cell_type": "markdown",
   "id": "448309e7",
   "metadata": {},
   "source": [
    "<h3>ZADANIE 3.10</h3>\n",
    "\n",
    "<p>Stworzyc slownik tlumaczacy liczby zapisane w systemie \n",
    "rzymskim (z literami I, V, X, L, C, D, M)\n",
    "na liczby arabskie (podac kilka sposobow tworzenia takiego slownika).\n",
    "Mile widziany kod tlumaczacy cala liczbe [funkcja roman2int()]."
   ]
  },
  {
   "cell_type": "code",
   "execution_count": 34,
   "id": "f7b2870f",
   "metadata": {},
   "outputs": [
    {
     "name": "stdout",
     "output_type": "stream",
     "text": [
      "{'I': 1, 'V': 5, 'X': 10, 'L': 50, 'C': 100, 'D': 500, 'M': 1000}\n",
      "{'I': 1, 'V': 5, 'X': 10, 'L': 50, 'C': 100, 'D': 500, 'M': 1000}\n",
      "{'I': 1, 'V': 5, 'X': 10, 'L': 50, 'C': 100, 'D': 500, 'M': 1000}\n",
      "{'I': 1, 'V': 5, 'X': 10, 'L': 50, 'C': 100, 'D': 500, 'M': 1000}\n",
      "3\n",
      "24\n",
      "1999\n",
      "476\n"
     ]
    }
   ],
   "source": [
    "dictRom = {'I' : 1, 'V' : 5, 'X' : 10, 'L' : 50, 'C' : 100, 'D' : 500, 'M' : 1000}\n",
    "dictRom1 = dict(I = 1, V = 5, X = 10, L = 50, C = 100, D = 500, M = 1000)\n",
    "dictRom2 = dict([('I', 1), ('V', 5), ('X', 10), ('L', 50), ('C', 100), ('D', 500), ('M', 1000)])\n",
    "dictRom3 = dict(zip(['I', 'V', 'X', 'L', 'C', 'D', 'M'], [1, 5, 10, 50, 100, 500, 1000]))\n",
    "print(dictRom)\n",
    "print(dictRom1)\n",
    "print(dictRom2)\n",
    "print(dictRom3)\n",
    "\n",
    "def roman2int(str):\n",
    "    res = 0\n",
    "    for i in range(len(str)-1):\n",
    "        if dictRom[str[i]] >= dictRom[str[i+1]]:\n",
    "            res += dictRom[str[i]]\n",
    "        else:\n",
    "            res -= dictRom[str[i]]\n",
    "    res += dictRom[str[-1]]\n",
    "    return res\n",
    "\n",
    "print(roman2int('III'))\n",
    "print(roman2int('XXIV'))\n",
    "print(roman2int('MCMXCIX'))\n",
    "print(roman2int('CDLXXVI'))"
   ]
  }
 ],
 "metadata": {
  "kernelspec": {
   "display_name": "Python 3 (ipykernel)",
   "language": "python",
   "name": "python3"
  },
  "language_info": {
   "codemirror_mode": {
    "name": "ipython",
    "version": 3
   },
   "file_extension": ".py",
   "mimetype": "text/x-python",
   "name": "python",
   "nbconvert_exporter": "python",
   "pygments_lexer": "ipython3",
   "version": "3.9.8"
  }
 },
 "nbformat": 4,
 "nbformat_minor": 5
}
